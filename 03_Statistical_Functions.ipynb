{
 "cells": [
  {
   "cell_type": "markdown",
   "metadata": {},
   "source": [
    "### Statistical Functions Using Pandas  \n",
    "**Author:** Taskeen Hussain  \n",
    "\n",
    "### Pandas provides a rich set of statistical functions to analyze data, including measures like mean, median, variance, and correlation. These functions help in summarizing and gaining insights from structured datasets."
   ]
  },
  {
   "cell_type": "code",
   "execution_count": 3,
   "metadata": {},
   "outputs": [
    {
     "name": "stdout",
     "output_type": "stream",
     "text": [
      "0         NaN\n",
      "1    1.000000\n",
      "2    0.500000\n",
      "3    0.333333\n",
      "4    0.250000\n",
      "5   -0.200000\n",
      "dtype: float64\n",
      "          0         1\n",
      "0       NaN       NaN\n",
      "1  0.656713 -1.698098\n",
      "2 -0.275993  2.011901\n",
      "3 -0.540496 -0.959352\n",
      "4  6.068732 -2.556078\n"
     ]
    }
   ],
   "source": [
    "# ### Percent_change\n",
    "\n",
    "import pandas as pd\n",
    "import numpy as np\n",
    "s = pd.Series([1,2,3,4,5,4])\n",
    "print (s.pct_change())\n",
    "\n",
    "df = pd.DataFrame(np.random.randn(5, 2))\n",
    "print (df.pct_change())"
   ]
  },
  {
   "cell_type": "code",
   "execution_count": 4,
   "metadata": {},
   "outputs": [
    {
     "name": "stdout",
     "output_type": "stream",
     "text": [
      "0.20955327477879804\n"
     ]
    }
   ],
   "source": [
    "# ### Covariance\n",
    "\n",
    "import pandas as pd\n",
    "import numpy as np\n",
    "s1 = pd.Series(np.random.randn(10))\n",
    "s2 = pd.Series(np.random.randn(10))\n",
    "print (s1.cov(s2))\n",
    "\n"
   ]
  },
  {
   "cell_type": "code",
   "execution_count": 5,
   "metadata": {},
   "outputs": [
    {
     "name": "stdout",
     "output_type": "stream",
     "text": [
      "-0.275340468704078\n",
      "          a         b         c         d         e\n",
      "a  1.703264 -0.275340  0.137832 -0.230641 -0.462069\n",
      "b -0.275340  1.018765  0.271539  0.156815  0.646879\n",
      "c  0.137832  0.271539  0.267276 -0.045163  0.036630\n",
      "d -0.230641  0.156815 -0.045163  0.800249  0.083346\n",
      "e -0.462069  0.646879  0.036630  0.083346  0.725451\n"
     ]
    }
   ],
   "source": [
    "frame = pd.DataFrame(np.random.randn(10, 5), columns=['a', 'b', 'c', 'd', 'e'])\n",
    "print (frame['a'].cov(frame['b']))\n",
    "print (frame.cov())"
   ]
  },
  {
   "cell_type": "code",
   "execution_count": 6,
   "metadata": {},
   "outputs": [
    {
     "name": "stdout",
     "output_type": "stream",
     "text": [
      "-0.3179699207059164\n",
      "          a         b         c         d         e\n",
      "a  1.000000 -0.317970 -0.324751 -0.220427  0.188621\n",
      "b -0.317970  1.000000 -0.215369  0.284493  0.225299\n",
      "c -0.324751 -0.215369  1.000000  0.093924  0.213268\n",
      "d -0.220427  0.284493  0.093924  1.000000 -0.232221\n",
      "e  0.188621  0.225299  0.213268 -0.232221  1.000000\n"
     ]
    }
   ],
   "source": [
    "# ### Correlation\n",
    "\n",
    "import pandas as pd\n",
    "import numpy as np\n",
    "frame = pd.DataFrame(np.random.randn(10, 5), columns=['a', 'b', 'c', 'd', 'e'])\n",
    "\n",
    "print (frame['a'].corr(frame['b']))\n",
    "print (frame.corr())"
   ]
  },
  {
   "cell_type": "code",
   "execution_count": 11,
   "metadata": {},
   "outputs": [
    {
     "name": "stdout",
     "output_type": "stream",
     "text": [
      "a    3.0\n",
      "b    4.5\n",
      "c    1.0\n",
      "d    4.5\n",
      "e    2.0\n",
      "dtype: float64\n"
     ]
    }
   ],
   "source": [
    "# ### Data Ranking\n",
    "\n",
    "import pandas as pd\n",
    "import numpy as nm\n",
    "\n",
    "s = pd.Series(np.random.randn(5), index=list('abcde'))\n",
    "s['d'] = s['b'] # so there's a tie\n",
    "print (s.rank())\n",
    "\n"
   ]
  },
  {
   "cell_type": "code",
   "execution_count": 8,
   "metadata": {},
   "outputs": [
    {
     "name": "stdout",
     "output_type": "stream",
     "text": [
      "                   A         B         C         D\n",
      "2000-01-01       NaN       NaN       NaN       NaN\n",
      "2000-01-02       NaN       NaN       NaN       NaN\n",
      "2000-01-03 -0.181516  0.191086 -0.620781 -1.527810\n",
      "2000-01-04 -0.204431  0.723023 -0.521309 -0.880120\n",
      "2000-01-05  0.130565  0.574943  0.271762 -0.064261\n",
      "2000-01-06  0.251491  0.835240  0.520558  0.763676\n",
      "2000-01-07  0.350367  0.659635  0.362826  0.416000\n",
      "2000-01-08 -0.303263  1.077971 -0.679789  0.100918\n",
      "2000-01-09 -0.460755  0.862192 -0.901945 -0.774952\n",
      "2000-01-10  0.461023  0.451612 -0.892808 -0.704417\n"
     ]
    }
   ],
   "source": [
    "# ### .rolling() Function\n",
    " \n",
    "import pandas as pd\n",
    "import numpy as np\n",
    "\n",
    "df = pd.DataFrame(np.random.randn(10, 4),\n",
    "   index = pd.date_range('1/1/2000', periods=10),\n",
    "   columns = ['A', 'B', 'C', 'D'])\n",
    "print (df.rolling(window=3).mean())\n"
   ]
  },
  {
   "cell_type": "code",
   "execution_count": 9,
   "metadata": {},
   "outputs": [
    {
     "name": "stdout",
     "output_type": "stream",
     "text": [
      "                   A         B         C         D\n",
      "2000-01-01       NaN       NaN       NaN       NaN\n",
      "2000-01-02       NaN       NaN       NaN       NaN\n",
      "2000-01-03  1.261693  0.708666 -0.662397  0.835515\n",
      "2000-01-04  0.880853  0.659134 -0.198604  0.033167\n",
      "2000-01-05  0.703609  0.328878 -0.117300 -0.074543\n",
      "2000-01-06  0.505964  0.101512 -0.366445 -0.089305\n",
      "2000-01-07  0.597057  0.168349 -0.260992  0.039169\n",
      "2000-01-08  0.485837  0.228161 -0.348649  0.009766\n",
      "2000-01-09  0.597572  0.152906 -0.093674  0.035078\n",
      "2000-01-10  0.546673  0.125989 -0.104891 -0.088528\n"
     ]
    }
   ],
   "source": [
    " ### .expanding() Function\n",
    "\n",
    "import pandas as pd\n",
    "import numpy as np\n",
    "\n",
    "df = pd.DataFrame(np.random.randn(10, 4),\n",
    "   index = pd.date_range('1/1/2000', periods=10),\n",
    "   columns = ['A', 'B', 'C', 'D'])\n",
    "print (df.expanding(min_periods=3).mean())\n"
   ]
  },
  {
   "cell_type": "code",
   "execution_count": 10,
   "metadata": {},
   "outputs": [
    {
     "name": "stdout",
     "output_type": "stream",
     "text": [
      "                   A         B         C         D\n",
      "2000-01-01  1.714294  0.516502 -0.234296  0.716299\n",
      "2000-01-02 -0.131119  0.194814  1.195002  0.541459\n",
      "2000-01-03 -0.240991 -0.777030  0.710181  0.702635\n",
      "2000-01-04  0.670963 -1.245133  1.271540  0.043518\n",
      "2000-01-05 -0.307357  1.247821 -0.090037  0.848650\n",
      "2000-01-06  1.245175 -0.576841 -0.601820  1.589974\n",
      "2000-01-07 -0.704255 -0.802813  0.473563  0.849985\n",
      "2000-01-08 -1.218326 -1.135134 -0.160162  1.005365\n",
      "2000-01-09 -0.638636 -0.544881  0.322201 -0.752796\n",
      "2000-01-10 -0.012760 -0.613447 -1.305081 -0.441385\n"
     ]
    }
   ],
   "source": [
    "\n",
    "import pandas as pd\n",
    "import numpy as np\n",
    " \n",
    "df = pd.DataFrame(np.random.randn(10, 4),\n",
    "   index = pd.date_range('1/1/2000', periods=10),\n",
    "   columns = ['A', 'B', 'C', 'D'])\n",
    "print (df.ewm(com=0.5).mean())\n"
   ]
  }
 ],
 "metadata": {
  "kernelspec": {
   "display_name": "Python 3",
   "language": "python",
   "name": "python3"
  },
  "language_info": {
   "codemirror_mode": {
    "name": "ipython",
    "version": 3
   },
   "file_extension": ".py",
   "mimetype": "text/x-python",
   "name": "python",
   "nbconvert_exporter": "python",
   "pygments_lexer": "ipython3",
   "version": "3.13.0"
  }
 },
 "nbformat": 4,
 "nbformat_minor": 2
}
