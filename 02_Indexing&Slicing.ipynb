{
 "cells": [
  {
   "cell_type": "markdown",
   "metadata": {},
   "source": [
    "### Indexing and Selecting Data in Pandas  \n",
    "**Author:** Taskeen Hussain  \n",
    "\n",
    "#### Pandas provides powerful tools for indexing and selecting data in Series and DataFrames. These capabilities allow for efficient data manipulation and extraction based on labels, positions, or conditions."
   ]
  },
  {
   "cell_type": "code",
   "execution_count": 16,
   "metadata": {},
   "outputs": [],
   "source": [
    "# ### .loc()\n",
    "## Pandas provide various methods in order to get purely label-location based indexing. When slicing, \n",
    "# the start bound is also included. Integers are valid labels, but they refer to the label and not the position.\n",
    "\n",
    "#import the pandas library and aliasing as pd\n",
    "import pandas as pd\n",
    "import numpy as np\n",
    "\n",
    "df = pd.DataFrame(np.random.randn(8, 4),\n",
    "index = ['a','b','c','d','e','f','g','h'], columns = ['A', 'B', 'C', 'D'])\n"
   ]
  },
  {
   "cell_type": "code",
   "execution_count": 2,
   "metadata": {},
   "outputs": [
    {
     "name": "stdout",
     "output_type": "stream",
     "text": [
      "a   -0.049177\n",
      "b   -1.253712\n",
      "c   -0.223615\n",
      "d    0.494638\n",
      "e    0.002327\n",
      "f    3.153442\n",
      "g   -0.637233\n",
      "h    0.346875\n",
      "Name: A, dtype: float64\n"
     ]
    }
   ],
   "source": [
    "#select all rows for a specific column\n",
    "print (df.loc[:,'A'])\n",
    "\n",
    "\n",
    "\n",
    "# import the pandas library and aliasing as pd\n",
    "import pandas as pd\n",
    "import numpy as np\n",
    "\n",
    "df = pd.DataFrame(np.random.randn(8, 4),\n",
    "index = ['a','b','c','d','e','f','g','h'], columns = ['A', 'B', 'C', 'D'])\n"
   ]
  },
  {
   "cell_type": "code",
   "execution_count": 3,
   "metadata": {},
   "outputs": [
    {
     "name": "stdout",
     "output_type": "stream",
     "text": [
      "          A         C\n",
      "a  0.876225  0.818642\n",
      "b  1.787640  0.481568\n",
      "c -1.425584 -1.436990\n",
      "d  0.182522  0.142021\n",
      "e  0.448474 -0.297705\n",
      "f  0.670024 -0.916298\n",
      "g -0.317001  0.696608\n",
      "h  0.438156  1.172570\n"
     ]
    }
   ],
   "source": [
    "# Select all rows for multiple columns, say list[]\n",
    "print (df.loc[:,['A','C']])\n",
    "\n"
   ]
  },
  {
   "cell_type": "code",
   "execution_count": 4,
   "metadata": {},
   "outputs": [
    {
     "name": "stdout",
     "output_type": "stream",
     "text": [
      "          A         C\n",
      "a -0.546576 -1.920782\n",
      "b -2.518808  0.066317\n",
      "f -0.030905 -1.351596\n",
      "h -1.329044 -1.330258\n"
     ]
    }
   ],
   "source": [
    "# import the pandas library and aliasing as pd\n",
    "import pandas as pd\n",
    "import numpy as np\n",
    "\n",
    "df = pd.DataFrame(np.random.randn(8, 4),\n",
    "index = ['a','b','c','d','e','f','g','h'], columns = ['A', 'B', 'C', 'D'])\n",
    "\n",
    "# Select few rows for multiple columns, say list[]\n",
    "print (df.loc[['a','b','f','h'],['A','C']])\n"
   ]
  },
  {
   "cell_type": "code",
   "execution_count": 5,
   "metadata": {},
   "outputs": [],
   "source": [
    "# import the pandas library and aliasing as pd\n",
    "import pandas as pd\n",
    "import numpy as np\n",
    "\n",
    "df = pd.DataFrame(np.random.randn(8, 4),\n",
    "index = ['a','b','c','d','e','f','g','h'], columns = ['A', 'B', 'C', 'D'])"
   ]
  },
  {
   "cell_type": "code",
   "execution_count": 6,
   "metadata": {},
   "outputs": [
    {
     "name": "stdout",
     "output_type": "stream",
     "text": [
      "          A         B         C         D\n",
      "a -0.045174  1.037441  0.833452  0.937949\n",
      "b  0.591001  0.890791 -0.360237  0.874845\n",
      "c  1.458524 -0.760742 -0.026624 -0.881787\n",
      "d  0.049604  0.627389 -1.636056  0.860902\n",
      "e -0.949744 -1.058138  0.284911  0.821904\n",
      "f -0.599039 -0.508382  1.409918  1.782932\n",
      "g -0.766988 -0.179092  0.820745  0.373197\n",
      "h  0.750584 -0.821707 -1.723493  1.437627\n"
     ]
    }
   ],
   "source": [
    "# Select range of rows for all columns\n",
    "print (df.loc['a':'h'])"
   ]
  },
  {
   "cell_type": "code",
   "execution_count": 7,
   "metadata": {},
   "outputs": [],
   "source": [
    "# import the pandas library and aliasing as pd\n",
    "import pandas as pd\n",
    "import numpy as np\n",
    "\n",
    "df = pd.DataFrame(np.random.randn(8, 4),\n",
    "index = ['a','b','c','d','e','f','g','h'], columns = ['A', 'B', 'C', 'D'])"
   ]
  },
  {
   "cell_type": "code",
   "execution_count": 8,
   "metadata": {},
   "outputs": [
    {
     "name": "stdout",
     "output_type": "stream",
     "text": [
      "A    False\n",
      "B     True\n",
      "C     True\n",
      "D    False\n",
      "Name: a, dtype: bool\n"
     ]
    }
   ],
   "source": [
    "# for getting values with a boolean array\n",
    "print (df.loc['a']>0)"
   ]
  },
  {
   "cell_type": "code",
   "execution_count": 9,
   "metadata": {},
   "outputs": [
    {
     "name": "stdout",
     "output_type": "stream",
     "text": [
      "          A         B         C         D\n",
      "0  1.054542  0.163990  0.577654  0.088692\n",
      "1 -0.031826  0.698213  0.462507  0.077089\n",
      "2 -0.763654 -0.795877 -0.856336 -0.787240\n",
      "3 -0.408231  0.939831  0.312838  1.728401\n"
     ]
    }
   ],
   "source": [
    "# import the pandas library and aliasing as pd\n",
    "import pandas as pd\n",
    "import numpy as np\n",
    "\n",
    "df = pd.DataFrame(np.random.randn(8, 4), columns = ['A', 'B', 'C', 'D'])\n",
    "\n",
    "# select all rows for a specific column\n",
    "print (df.iloc[:4])"
   ]
  },
  {
   "cell_type": "code",
   "execution_count": 10,
   "metadata": {},
   "outputs": [
    {
     "name": "stdout",
     "output_type": "stream",
     "text": [
      "          A         B         C         D\n",
      "0 -0.131230 -0.655680  1.051439 -1.355403\n",
      "1  0.634255 -0.960295  0.878482  0.527476\n",
      "2 -0.312977  0.247895 -0.020591  1.082616\n",
      "3  1.125324 -1.224064 -0.080451 -0.567372\n",
      "          C         D\n",
      "1  0.878482  0.527476\n",
      "2 -0.020591  1.082616\n",
      "3 -0.080451 -0.567372\n",
      "4 -0.900104 -0.883426\n"
     ]
    }
   ],
   "source": [
    "import pandas as pd\n",
    "import numpy as np\n",
    "\n",
    "df = pd.DataFrame(np.random.randn(8, 4), columns = ['A', 'B', 'C', 'D'])\n",
    "\n",
    "# Integer slicing\n",
    "print (df.iloc[:4])\n",
    "print (df.iloc[1:5, 2:4])\n"
   ]
  },
  {
   "cell_type": "code",
   "execution_count": 11,
   "metadata": {},
   "outputs": [
    {
     "name": "stdout",
     "output_type": "stream",
     "text": [
      "          B         D\n",
      "1  1.676198 -1.136831\n",
      "3  0.502104  1.015073\n",
      "5 -1.681207 -0.044198\n",
      "          A         B         C         D\n",
      "1  0.607060  1.676198 -0.915453 -1.136831\n",
      "2 -0.215823 -0.713756 -0.989951 -0.169976\n",
      "          B         C\n",
      "0 -0.904126 -1.477769\n",
      "1  1.676198 -0.915453\n",
      "2 -0.713756 -0.989951\n",
      "3  0.502104  0.439766\n",
      "4  0.880567 -0.777759\n",
      "5 -1.681207 -1.239048\n",
      "6 -0.735057  0.088473\n",
      "7  0.473846 -0.295581\n"
     ]
    }
   ],
   "source": [
    "import pandas as pd\n",
    "import numpy as np\n",
    "\n",
    "df = pd.DataFrame(np.random.randn(8, 4), columns = ['A', 'B', 'C', 'D'])\n",
    "\n",
    "# Slicing through list of values\n",
    "print (df.iloc[[1, 3, 5], [1, 3]])\n",
    "print (df.iloc[1:3, :])\n",
    "print (df.iloc[:,1:3])\n"
   ]
  },
  {
   "cell_type": "code",
   "execution_count": 12,
   "metadata": {},
   "outputs": [
    {
     "name": "stdout",
     "output_type": "stream",
     "text": [
      "0    0.435410\n",
      "1   -1.536373\n",
      "2   -0.738991\n",
      "3    0.499210\n",
      "4   -1.229502\n",
      "5   -1.111364\n",
      "6   -0.144216\n",
      "7   -0.983759\n",
      "Name: A, dtype: float64\n"
     ]
    }
   ],
   "source": [
    "import pandas as pd\n",
    "import numpy as np\n",
    "df = pd.DataFrame(np.random.randn(8, 4), columns = ['A', 'B', 'C', 'D'])\n",
    "print (df['A'])\n"
   ]
  },
  {
   "cell_type": "code",
   "execution_count": 13,
   "metadata": {},
   "outputs": [
    {
     "name": "stdout",
     "output_type": "stream",
     "text": [
      "          A         B\n",
      "0 -1.050237  0.885514\n",
      "1 -0.749723  0.102322\n",
      "2  1.583710  1.511573\n",
      "3 -1.189151 -0.177588\n",
      "4  0.469450 -1.268152\n",
      "5 -2.058323  0.250829\n",
      "6  0.402082 -0.838654\n",
      "7  0.581484 -0.318354\n"
     ]
    }
   ],
   "source": [
    "import pandas as pd\n",
    "import numpy as np\n",
    "df = pd.DataFrame(np.random.randn(8, 4), columns = ['A', 'B', 'C', 'D'])\n",
    "\n",
    "print (df[['A','B']])"
   ]
  },
  {
   "cell_type": "code",
   "execution_count": 14,
   "metadata": {},
   "outputs": [
    {
     "name": "stdout",
     "output_type": "stream",
     "text": [
      "Empty DataFrame\n",
      "Columns: [A, B, C, D]\n",
      "Index: []\n"
     ]
    }
   ],
   "source": [
    "import pandas as pd\n",
    "import numpy as np\n",
    "df = pd.DataFrame(np.random.randn(8, 4), columns = ['A', 'B', 'C', 'D'])\n",
    "print (df[2:2])"
   ]
  },
  {
   "cell_type": "code",
   "execution_count": 15,
   "metadata": {},
   "outputs": [
    {
     "name": "stdout",
     "output_type": "stream",
     "text": [
      "0   -0.116110\n",
      "1    0.248947\n",
      "2   -0.591744\n",
      "3   -1.445159\n",
      "4   -2.934350\n",
      "5    0.193104\n",
      "6   -1.011759\n",
      "7    1.322058\n",
      "Name: A, dtype: float64\n"
     ]
    }
   ],
   "source": [
    "import pandas as pd\n",
    "import numpy as np\n",
    "df = pd.DataFrame(np.random.randn(8, 4), columns = ['A', 'B', 'C', 'D'])\n",
    "\n",
    "print (df.A)"
   ]
  }
 ],
 "metadata": {
  "kernelspec": {
   "display_name": "Python 3",
   "language": "python",
   "name": "python3"
  },
  "language_info": {
   "codemirror_mode": {
    "name": "ipython",
    "version": 3
   },
   "file_extension": ".py",
   "mimetype": "text/x-python",
   "name": "python",
   "nbconvert_exporter": "python",
   "pygments_lexer": "ipython3",
   "version": "3.13.0"
  }
 },
 "nbformat": 4,
 "nbformat_minor": 2
}
