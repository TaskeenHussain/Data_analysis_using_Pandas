{
 "cells": [
  {
   "cell_type": "markdown",
   "metadata": {},
   "source": [
    "### Aggregation in Pandas  \n",
    "**Author:** Taskeen Hussain  \n",
    "\n",
    "### Aggregation in Pandas involves computing summary statistics like mean, sum, or count for data grouped by categories or across an entire DataFrame. It simplifies data analysis by providing insights into trends and patterns efficiently."
   ]
  },
  {
   "cell_type": "code",
   "execution_count": 2,
   "metadata": {},
   "outputs": [
    {
     "name": "stdout",
     "output_type": "stream",
     "text": [
      "                   A         B         C         D\n",
      "2000-01-01  0.779428 -0.209775  1.491637 -1.336518\n",
      "2000-01-02 -0.336405 -0.183944 -0.722208 -0.085264\n",
      "2000-01-03  0.456521 -0.464125 -1.040293  0.812727\n",
      "2000-01-04 -0.433737  1.668304  0.402256 -0.162157\n",
      "2000-01-05  0.622899  0.304331  0.872098 -0.074535\n",
      "2000-01-06  0.366412 -1.177927  0.530410  0.539746\n",
      "2000-01-07  0.217119  0.432050  0.680630  0.407977\n",
      "2000-01-08 -0.172628 -0.690929 -0.156054  0.193984\n",
      "2000-01-09 -1.882914  1.036818  0.434396 -1.456965\n",
      "2000-01-10  1.394644 -0.978757  0.132380 -0.813043\n",
      "Rolling [window=3,min_periods=1,center=False,axis=0,method=single]\n"
     ]
    }
   ],
   "source": [
    "# ### Applying Aggregations on DataFrame\n",
    "\n",
    "import pandas as pd\n",
    "import numpy as np\n",
    "\n",
    "df = pd.DataFrame(np.random.randn(10, 4),\n",
    "   index = pd.date_range('1/1/2000', periods=10),\n",
    "   columns = ['A', 'B', 'C', 'D'])\n",
    "\n",
    "print (df)\n",
    "r = df.rolling(window=3,min_periods=1)\n",
    "print (r)"
   ]
  },
  {
   "cell_type": "code",
   "execution_count": 3,
   "metadata": {},
   "outputs": [
    {
     "name": "stdout",
     "output_type": "stream",
     "text": [
      "                   A         B         C         D\n",
      "2000-01-01 -0.681832 -0.405749  1.023482  0.986701\n",
      "2000-01-02 -1.605280 -0.776618 -1.464344 -0.806173\n",
      "2000-01-03 -2.374000  1.078837 -0.015163 -1.422511\n",
      "2000-01-04  1.074826 -1.295814 -0.654835  0.836476\n",
      "2000-01-05  0.914315 -0.189010 -0.042324  0.984043\n",
      "2000-01-06 -0.159438  0.591672 -0.013236  0.610547\n",
      "2000-01-07  1.480343  1.111980  0.266874 -0.973923\n",
      "2000-01-08  0.520427  1.255799  0.788184 -1.368377\n",
      "2000-01-09  0.205299 -0.415037  1.255310 -0.475169\n",
      "2000-01-10  0.319555 -0.460799 -0.348984  0.803210\n",
      "                   A         B         C         D\n",
      "2000-01-01 -0.681832 -0.405749  1.023482  0.986701\n",
      "2000-01-02 -2.287112 -1.182367 -0.440862  0.180528\n",
      "2000-01-03 -4.661112 -0.103530 -0.456025 -1.241982\n",
      "2000-01-04 -2.904453 -0.993596 -2.134342 -1.392207\n",
      "2000-01-05 -0.384859 -0.405988 -0.712322  0.398009\n",
      "2000-01-06  1.829703 -0.893152 -0.710395  2.431067\n",
      "2000-01-07  2.235220  1.514642  0.211313  0.620667\n",
      "2000-01-08  1.841333  2.959452  1.041822 -1.731753\n",
      "2000-01-09  2.206070  1.952742  2.310368 -2.817468\n",
      "2000-01-10  1.045281  0.379963  1.694510 -1.040336\n"
     ]
    },
    {
     "name": "stderr",
     "output_type": "stream",
     "text": [
      "C:\\Users\\ALR\\AppData\\Local\\Temp\\ipykernel_14200\\2577070826.py:11: FutureWarning: The provided callable <function sum at 0x00000251CE7CEFC0> is currently using Rolling.sum. In a future version of pandas, the provided callable will be used directly. To keep current behavior pass the string \"sum\" instead.\n",
      "  print (r.aggregate(np.sum))\n"
     ]
    }
   ],
   "source": [
    "### Apply Aggregation on a Whole Dataframe\n",
    "\n",
    "import pandas as pd\n",
    "import numpy as np\n",
    "\n",
    "df = pd.DataFrame(np.random.randn(10, 4),\n",
    "   index = pd.date_range('1/1/2000', periods=10),\n",
    "   columns = ['A', 'B', 'C', 'D'])\n",
    "print (df)\n",
    "r = df.rolling(window=3,min_periods=1)\n",
    "print (r.aggregate(np.sum))\n"
   ]
  },
  {
   "cell_type": "code",
   "execution_count": 4,
   "metadata": {},
   "outputs": [
    {
     "name": "stdout",
     "output_type": "stream",
     "text": [
      "                   A         B         C         D\n",
      "2000-01-01 -0.229390 -1.321791  0.756567  0.463137\n",
      "2000-01-02 -0.427602  0.635989 -0.233220  0.765842\n",
      "2000-01-03  0.152760 -0.940706 -0.258428  0.092582\n",
      "2000-01-04  0.176534 -0.185072  1.276562  0.029571\n",
      "2000-01-05  0.373698 -0.276436 -0.274609 -0.077695\n",
      "2000-01-06 -0.764425  0.691408 -0.342288  2.745473\n",
      "2000-01-07  1.083378  1.199619 -0.783558  1.928096\n",
      "2000-01-08 -0.358792 -0.685656  0.711434 -0.324064\n",
      "2000-01-09  1.440877 -1.194452  2.229721  0.242239\n",
      "2000-01-10  0.320156  1.051184 -1.623915  0.479888\n",
      "2000-01-01   -0.229390\n",
      "2000-01-02   -0.656992\n",
      "2000-01-03   -0.504231\n",
      "2000-01-04   -0.098308\n",
      "2000-01-05    0.702993\n",
      "2000-01-06   -0.214193\n",
      "2000-01-07    0.692651\n",
      "2000-01-08   -0.039839\n",
      "2000-01-09    2.165462\n",
      "2000-01-10    1.402241\n",
      "Freq: D, Name: A, dtype: float64\n"
     ]
    },
    {
     "name": "stderr",
     "output_type": "stream",
     "text": [
      "C:\\Users\\ALR\\AppData\\Local\\Temp\\ipykernel_14200\\1222077287.py:11: FutureWarning: The provided callable <function sum at 0x00000251CE7CEFC0> is currently using Rolling.sum. In a future version of pandas, the provided callable will be used directly. To keep current behavior pass the string \"sum\" instead.\n",
      "  print (r['A'].aggregate(np.sum))\n"
     ]
    }
   ],
   "source": [
    " ### Apply Aggregation on a Single Column of a Dataframe\n",
    "\n",
    "import pandas as pd\n",
    "import numpy as np\n",
    "\n",
    "df = pd.DataFrame(np.random.randn(10, 4),\n",
    "   index = pd.date_range('1/1/2000', periods=10),\n",
    "   columns = ['A', 'B', 'C', 'D'])\n",
    "print (df)\n",
    "r = df.rolling(window=3,min_periods=1)\n",
    "print (r['A'].aggregate(np.sum))"
   ]
  },
  {
   "cell_type": "code",
   "execution_count": 5,
   "metadata": {},
   "outputs": [
    {
     "name": "stdout",
     "output_type": "stream",
     "text": [
      "                   A         B         C         D\n",
      "2000-01-01  0.637008 -0.984553  1.576117  0.677741\n",
      "2000-01-02  2.457466  0.345783  0.307863 -1.823417\n",
      "2000-01-03  0.254514 -0.110580 -0.306495  0.120681\n",
      "2000-01-04  1.762323  0.136570  1.487161 -1.071431\n",
      "2000-01-05  0.097918 -1.720547  0.890005  1.345570\n",
      "2000-01-06  0.836731  1.117182 -0.372835 -0.382698\n",
      "2000-01-07 -0.683547 -1.509681  1.402477  0.329330\n",
      "2000-01-08 -0.673660  0.691498  0.670320  0.281391\n",
      "2000-01-09 -0.854296  0.384754  1.192093 -0.825821\n",
      "2000-01-10 -0.578243  1.292993 -0.790606 -0.217963\n",
      "                   A         B\n",
      "2000-01-01  0.637008 -0.984553\n",
      "2000-01-02  3.094474 -0.638770\n",
      "2000-01-03  3.348988 -0.749350\n",
      "2000-01-04  4.474303  0.371774\n",
      "2000-01-05  2.114755 -1.694556\n",
      "2000-01-06  2.696972 -0.466795\n",
      "2000-01-07  0.251101 -2.113046\n",
      "2000-01-08 -0.520477  0.298999\n",
      "2000-01-09 -2.211504 -0.433429\n",
      "2000-01-10 -2.106199  2.369246\n"
     ]
    },
    {
     "name": "stderr",
     "output_type": "stream",
     "text": [
      "C:\\Users\\ALR\\AppData\\Local\\Temp\\ipykernel_14200\\143475385.py:11: FutureWarning: The provided callable <function sum at 0x00000251CE7CEFC0> is currently using Rolling.sum. In a future version of pandas, the provided callable will be used directly. To keep current behavior pass the string \"sum\" instead.\n",
      "  print (r[['A','B']].aggregate(np.sum))\n"
     ]
    }
   ],
   "source": [
    " ### Apply Aggregation on Multiple Columns of a DataFrame\n",
    "\n",
    "import pandas as pd\n",
    "import numpy as np\n",
    "\n",
    "df = pd.DataFrame(np.random.randn(10, 4),\n",
    "   index = pd.date_range('1/1/2000', periods=10),\n",
    "   columns = ['A', 'B', 'C', 'D'])\n",
    "print (df)\n",
    "r = df.rolling(window=3,min_periods=1)\n",
    "print (r[['A','B']].aggregate(np.sum))"
   ]
  },
  {
   "cell_type": "code",
   "execution_count": 6,
   "metadata": {},
   "outputs": [
    {
     "name": "stdout",
     "output_type": "stream",
     "text": [
      "                   A         B         C         D\n",
      "2000-01-01  0.618135 -1.072677  0.229919 -0.227219\n",
      "2000-01-02 -0.902244 -0.849214  1.086901 -0.192141\n",
      "2000-01-03  0.379490 -1.444624 -1.705471  0.072544\n",
      "2000-01-04 -0.411090  0.047256  0.236729 -0.751101\n",
      "2000-01-05 -0.302025 -1.660466 -0.333640  0.557406\n",
      "2000-01-06  0.144634  1.841526  0.734671 -1.098446\n",
      "2000-01-07  1.041106  2.318094  0.436600 -1.361752\n",
      "2000-01-08  0.119134  1.001364  0.939748  1.096114\n",
      "2000-01-09  1.807074 -0.494641 -0.558861  0.503974\n",
      "2000-01-10  0.586037 -0.537012 -1.413738  0.544404\n",
      "                 sum      mean\n",
      "2000-01-01  0.618135  0.618135\n",
      "2000-01-02 -0.284110 -0.142055\n",
      "2000-01-03  0.095380  0.031793\n",
      "2000-01-04 -0.933845 -0.311282\n",
      "2000-01-05 -0.333625 -0.111208\n",
      "2000-01-06 -0.568482 -0.189494\n",
      "2000-01-07  0.883714  0.294571\n",
      "2000-01-08  1.304873  0.434958\n",
      "2000-01-09  2.967314  0.989105\n",
      "2000-01-10  2.512245  0.837415\n"
     ]
    },
    {
     "name": "stderr",
     "output_type": "stream",
     "text": [
      "C:\\Users\\ALR\\AppData\\Local\\Temp\\ipykernel_14200\\3976606237.py:11: FutureWarning: The provided callable <function sum at 0x00000251CE7CEFC0> is currently using Rolling.sum. In a future version of pandas, the provided callable will be used directly. To keep current behavior pass the string \"sum\" instead.\n",
      "  print (r['A'].aggregate([np.sum,np.mean]))\n",
      "C:\\Users\\ALR\\AppData\\Local\\Temp\\ipykernel_14200\\3976606237.py:11: FutureWarning: The provided callable <function mean at 0x00000251CE7E4400> is currently using Rolling.mean. In a future version of pandas, the provided callable will be used directly. To keep current behavior pass the string \"mean\" instead.\n",
      "  print (r['A'].aggregate([np.sum,np.mean]))\n"
     ]
    }
   ],
   "source": [
    " ### Apply Multiple Functions on a Single Column of a DataFrame\n",
    "\n",
    "import pandas as pd\n",
    "import numpy as np\n",
    "\n",
    "df = pd.DataFrame(np.random.randn(10, 4),\n",
    "   index = pd.date_range('1/1/2000', periods=10),\n",
    "   columns = ['A', 'B', 'C', 'D'])\n",
    "print (df)\n",
    "r = df.rolling(window=3,min_periods=1)\n",
    "print (r['A'].aggregate([np.sum,np.mean]))\n"
   ]
  },
  {
   "cell_type": "code",
   "execution_count": 7,
   "metadata": {},
   "outputs": [
    {
     "name": "stdout",
     "output_type": "stream",
     "text": [
      "                   A         B         C         D\n",
      "2000-01-01 -0.551725  0.465635 -0.464683 -0.444994\n",
      "2000-01-02  0.425316  0.314845  0.397377 -0.582779\n",
      "2000-01-03 -0.810586  0.298097  0.610683 -0.989345\n",
      "2000-01-04 -1.848965  0.826539 -0.103039  0.136586\n",
      "2000-01-05 -0.012728 -2.557918 -0.586102  1.446702\n",
      "2000-01-06  0.997308  0.494663  0.133610 -1.883687\n",
      "2000-01-07  1.575251  0.462606  1.805430 -0.122515\n",
      "2000-01-08 -0.158317  0.853859 -1.628038 -2.179891\n",
      "2000-01-09  0.429622 -0.410848  0.474316 -0.225255\n",
      "2000-01-10 -0.326893 -0.342561 -0.430511  0.118529\n",
      "                   A                   B          \n",
      "                 sum      mean       sum      mean\n",
      "2000-01-01 -0.551725 -0.551725  0.465635  0.465635\n",
      "2000-01-02 -0.126409 -0.063205  0.780480  0.390240\n",
      "2000-01-03 -0.936995 -0.312332  1.078577  0.359526\n",
      "2000-01-04 -2.234235 -0.744745  1.439481  0.479827\n",
      "2000-01-05 -2.672279 -0.890760 -1.433281 -0.477760\n",
      "2000-01-06 -0.864386 -0.288129 -1.236716 -0.412239\n",
      "2000-01-07  2.559830  0.853277 -1.600650 -0.533550\n",
      "2000-01-08  2.414241  0.804747  1.811127  0.603709\n",
      "2000-01-09  1.846556  0.615519  0.905616  0.301872\n",
      "2000-01-10 -0.055588 -0.018529  0.100450  0.033483\n"
     ]
    },
    {
     "name": "stderr",
     "output_type": "stream",
     "text": [
      "C:\\Users\\ALR\\AppData\\Local\\Temp\\ipykernel_14200\\1885365803.py:11: FutureWarning: The provided callable <function sum at 0x00000251CE7CEFC0> is currently using Rolling.sum. In a future version of pandas, the provided callable will be used directly. To keep current behavior pass the string \"sum\" instead.\n",
      "  print (r[['A','B']].aggregate([np.sum,np.mean]))\n",
      "C:\\Users\\ALR\\AppData\\Local\\Temp\\ipykernel_14200\\1885365803.py:11: FutureWarning: The provided callable <function mean at 0x00000251CE7E4400> is currently using Rolling.mean. In a future version of pandas, the provided callable will be used directly. To keep current behavior pass the string \"mean\" instead.\n",
      "  print (r[['A','B']].aggregate([np.sum,np.mean]))\n"
     ]
    }
   ],
   "source": [
    "# ### Apply Multiple Functions on Multiple Columns of a DataFrame\n",
    "\n",
    "import pandas as pd\n",
    "import numpy as np\n",
    "\n",
    "df = pd.DataFrame(np.random.randn(10, 4),\n",
    "   index = pd.date_range('1/1/2000', periods=10),\n",
    "   columns = ['A', 'B', 'C', 'D'])\n",
    "print (df)\n",
    "r = df.rolling(window=3,min_periods=1)\n",
    "print (r[['A','B']].aggregate([np.sum,np.mean]))"
   ]
  },
  {
   "cell_type": "code",
   "execution_count": 8,
   "metadata": {},
   "outputs": [
    {
     "name": "stdout",
     "output_type": "stream",
     "text": [
      "                   A         B         C         D\n",
      "2000-01-01 -0.042637  0.015730  1.466498 -0.131628\n",
      "2000-01-02  0.036578  0.008146  1.001875 -1.502336\n",
      "2000-01-03  1.419960 -1.719523 -0.973809 -0.470462\n",
      "                   A         B\n",
      "2000-01-01 -0.042637  0.015730\n",
      "2000-01-02 -0.006059  0.011938\n",
      "2000-01-03  1.413901 -0.565216\n"
     ]
    },
    {
     "name": "stderr",
     "output_type": "stream",
     "text": [
      "C:\\Users\\ALR\\AppData\\Local\\Temp\\ipykernel_14200\\2783016472.py:11: FutureWarning: The provided callable <function sum at 0x00000251CE7CEFC0> is currently using Rolling.sum. In a future version of pandas, the provided callable will be used directly. To keep current behavior pass the string \"sum\" instead.\n",
      "  print (r.aggregate({'A' : np.sum,'B' : np.mean}))\n",
      "C:\\Users\\ALR\\AppData\\Local\\Temp\\ipykernel_14200\\2783016472.py:11: FutureWarning: The provided callable <function mean at 0x00000251CE7E4400> is currently using Rolling.mean. In a future version of pandas, the provided callable will be used directly. To keep current behavior pass the string \"mean\" instead.\n",
      "  print (r.aggregate({'A' : np.sum,'B' : np.mean}))\n"
     ]
    }
   ],
   "source": [
    "#  ### Apply Different Functions to Different Columns of a Dataframe\n",
    "\n",
    "import pandas as pd\n",
    "import numpy as np\n",
    " \n",
    "df = pd.DataFrame(np.random.randn(3, 4),\n",
    "   index = pd.date_range('1/1/2000', periods=3),\n",
    "   columns = ['A', 'B', 'C', 'D'])\n",
    "print (df)\n",
    "r = df.rolling(window=3,min_periods=1)\n",
    "print (r.aggregate({'A' : np.sum,'B' : np.mean}))"
   ]
  }
 ],
 "metadata": {
  "kernelspec": {
   "display_name": "Python 3",
   "language": "python",
   "name": "python3"
  },
  "language_info": {
   "codemirror_mode": {
    "name": "ipython",
    "version": 3
   },
   "file_extension": ".py",
   "mimetype": "text/x-python",
   "name": "python",
   "nbconvert_exporter": "python",
   "pygments_lexer": "ipython3",
   "version": "3.13.0"
  }
 },
 "nbformat": 4,
 "nbformat_minor": 2
}
